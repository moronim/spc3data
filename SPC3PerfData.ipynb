{
  "nbformat": 4,
  "nbformat_minor": 0,
  "metadata": {
    "colab": {
      "name": "SPC3PerfData.ipynb",
      "provenance": [],
      "collapsed_sections": [],
      "history_visible": true
    },
    "kernelspec": {
      "name": "python3",
      "display_name": "Python 3"
    },
    "language_info": {
      "name": "python"
    }
  },
  "cells": [
    {
      "cell_type": "markdown",
      "metadata": {
        "id": "xzoYTpYmTYmX"
      },
      "source": [
        "# Import Pandas and SQLite"
      ]
    },
    {
      "cell_type": "code",
      "metadata": {
        "id": "Jw_EGM7aKkJn"
      },
      "source": [
        "import sqlite3 as sql\n",
        "import pandas as pd\n",
        "import pandas.io.common\n",
        "import matplotlib.pyplot as plt"
      ],
      "execution_count": 23,
      "outputs": []
    },
    {
      "cell_type": "code",
      "metadata": {
        "colab": {
          "base_uri": "https://localhost:8080/",
          "height": 419
        },
        "id": "5-hTmbIia5ky",
        "outputId": "3d2508cf-afb9-432a-a2b9-af94c27ef5c9"
      },
      "source": [
        "#@title Security Gateway Node { run: \"auto\" }\n",
        "node = \"MI1\" #@param [\"MI1\", \"MI2\", \"AN\", \"BA1\", \"BA2\", \"BG\"]\n",
        "datetime = \"2021-04-07\" #@param {type:\"date\"}\n",
        "path = \"https://raw.githubusercontent.com/moronim/repo/main/\" + node + \"-\" + datetime + \".csv\"\n",
        "\n",
        "spc3_data = pd.read_csv(path)\n",
        "\n",
        "spc3_data.columns = spc3_data.columns.str.replace(\" \", \"\")\n",
        "spc3_data"
      ],
      "execution_count": 100,
      "outputs": [
        {
          "output_type": "execute_result",
          "data": {
            "text/html": [
              "<div>\n",
              "<style scoped>\n",
              "    .dataframe tbody tr th:only-of-type {\n",
              "        vertical-align: middle;\n",
              "    }\n",
              "\n",
              "    .dataframe tbody tr th {\n",
              "        vertical-align: top;\n",
              "    }\n",
              "\n",
              "    .dataframe thead th {\n",
              "        text-align: right;\n",
              "    }\n",
              "</style>\n",
              "<table border=\"1\" class=\"dataframe\">\n",
              "  <thead>\n",
              "    <tr style=\"text-align: right;\">\n",
              "      <th></th>\n",
              "      <th>DATE</th>\n",
              "      <th>TIME</th>\n",
              "      <th>FPC</th>\n",
              "      <th>PIC</th>\n",
              "      <th>ENCAP_BYTES</th>\n",
              "      <th>ENCAP_PKTS</th>\n",
              "      <th>DECAP_BYTES</th>\n",
              "      <th>DECAP_PKTS</th>\n",
              "    </tr>\n",
              "  </thead>\n",
              "  <tbody>\n",
              "    <tr>\n",
              "      <th>0</th>\n",
              "      <td>2021-04-07</td>\n",
              "      <td>00:00</td>\n",
              "      <td>FPC0</td>\n",
              "      <td>PIC0:</td>\n",
              "      <td>183265487752</td>\n",
              "      <td>12688945095</td>\n",
              "      <td>142913997</td>\n",
              "      <td>54747412</td>\n",
              "    </tr>\n",
              "    <tr>\n",
              "      <th>1</th>\n",
              "      <td>2021-04-07</td>\n",
              "      <td>00:00</td>\n",
              "      <td>FPC0</td>\n",
              "      <td>PIC1:</td>\n",
              "      <td>359440890520</td>\n",
              "      <td>27362909100</td>\n",
              "      <td>281211067</td>\n",
              "      <td>107258519</td>\n",
              "    </tr>\n",
              "    <tr>\n",
              "      <th>2</th>\n",
              "      <td>2021-04-07</td>\n",
              "      <td>00:05</td>\n",
              "      <td>FPC0</td>\n",
              "      <td>PIC0:</td>\n",
              "      <td>177564385616</td>\n",
              "      <td>11889208834</td>\n",
              "      <td>138804472</td>\n",
              "      <td>52832664</td>\n",
              "    </tr>\n",
              "    <tr>\n",
              "      <th>3</th>\n",
              "      <td>2021-04-07</td>\n",
              "      <td>00:05</td>\n",
              "      <td>FPC0</td>\n",
              "      <td>PIC1:</td>\n",
              "      <td>357500464080</td>\n",
              "      <td>27539121388</td>\n",
              "      <td>279858628</td>\n",
              "      <td>106953403</td>\n",
              "    </tr>\n",
              "    <tr>\n",
              "      <th>4</th>\n",
              "      <td>2021-04-07</td>\n",
              "      <td>00:10</td>\n",
              "      <td>FPC0</td>\n",
              "      <td>PIC0:</td>\n",
              "      <td>170414856232</td>\n",
              "      <td>11467926020</td>\n",
              "      <td>132724699</td>\n",
              "      <td>49835809</td>\n",
              "    </tr>\n",
              "    <tr>\n",
              "      <th>...</th>\n",
              "      <td>...</td>\n",
              "      <td>...</td>\n",
              "      <td>...</td>\n",
              "      <td>...</td>\n",
              "      <td>...</td>\n",
              "      <td>...</td>\n",
              "      <td>...</td>\n",
              "      <td>...</td>\n",
              "    </tr>\n",
              "    <tr>\n",
              "      <th>571</th>\n",
              "      <td>2021-04-07</td>\n",
              "      <td>23:45</td>\n",
              "      <td>FPC0</td>\n",
              "      <td>PIC1:</td>\n",
              "      <td>392519604736</td>\n",
              "      <td>33507253497</td>\n",
              "      <td>314928040</td>\n",
              "      <td>124572069</td>\n",
              "    </tr>\n",
              "    <tr>\n",
              "      <th>572</th>\n",
              "      <td>2021-04-07</td>\n",
              "      <td>23:50</td>\n",
              "      <td>FPC0</td>\n",
              "      <td>PIC0:</td>\n",
              "      <td>188970838192</td>\n",
              "      <td>15910550787</td>\n",
              "      <td>152383372</td>\n",
              "      <td>61418126</td>\n",
              "    </tr>\n",
              "    <tr>\n",
              "      <th>573</th>\n",
              "      <td>2021-04-07</td>\n",
              "      <td>23:50</td>\n",
              "      <td>FPC0</td>\n",
              "      <td>PIC1:</td>\n",
              "      <td>391703761816</td>\n",
              "      <td>32871770112</td>\n",
              "      <td>312670897</td>\n",
              "      <td>122632807</td>\n",
              "    </tr>\n",
              "    <tr>\n",
              "      <th>574</th>\n",
              "      <td>2021-04-07</td>\n",
              "      <td>23:55</td>\n",
              "      <td>FPC0</td>\n",
              "      <td>PIC0:</td>\n",
              "      <td>191292671944</td>\n",
              "      <td>14911399796</td>\n",
              "      <td>152960171</td>\n",
              "      <td>59189426</td>\n",
              "    </tr>\n",
              "    <tr>\n",
              "      <th>575</th>\n",
              "      <td>2021-04-07</td>\n",
              "      <td>23:55</td>\n",
              "      <td>FPC0</td>\n",
              "      <td>PIC1:</td>\n",
              "      <td>385440789384</td>\n",
              "      <td>31510505706</td>\n",
              "      <td>307083493</td>\n",
              "      <td>118924553</td>\n",
              "    </tr>\n",
              "  </tbody>\n",
              "</table>\n",
              "<p>576 rows × 8 columns</p>\n",
              "</div>"
            ],
            "text/plain": [
              "           DATE   TIME   FPC  ...   ENCAP_PKTS  DECAP_BYTES  DECAP_PKTS\n",
              "0    2021-04-07  00:00  FPC0  ...  12688945095    142913997    54747412\n",
              "1    2021-04-07  00:00  FPC0  ...  27362909100    281211067   107258519\n",
              "2    2021-04-07  00:05  FPC0  ...  11889208834    138804472    52832664\n",
              "3    2021-04-07  00:05  FPC0  ...  27539121388    279858628   106953403\n",
              "4    2021-04-07  00:10  FPC0  ...  11467926020    132724699    49835809\n",
              "..          ...    ...   ...  ...          ...          ...         ...\n",
              "571  2021-04-07  23:45  FPC0  ...  33507253497    314928040   124572069\n",
              "572  2021-04-07  23:50  FPC0  ...  15910550787    152383372    61418126\n",
              "573  2021-04-07  23:50  FPC0  ...  32871770112    312670897   122632807\n",
              "574  2021-04-07  23:55  FPC0  ...  14911399796    152960171    59189426\n",
              "575  2021-04-07  23:55  FPC0  ...  31510505706    307083493   118924553\n",
              "\n",
              "[576 rows x 8 columns]"
            ]
          },
          "metadata": {
            "tags": []
          },
          "execution_count": 100
        }
      ]
    },
    {
      "cell_type": "code",
      "metadata": {
        "colab": {
          "base_uri": "https://localhost:8080/",
          "height": 552
        },
        "id": "TJcAhpuGdqJj",
        "outputId": "032b7482-f034-48dd-9d6d-3c418a30d71e"
      },
      "source": [
        "!rm spc3db.db\n",
        "conn = sql.connect('spc3db.db')\n",
        "spc3_data.to_sql('spc3db', conn, index=True)\n",
        "encap_bytes = pd.read_sql('SELECT ENCAP_BYTES FROM spc3db', conn)\n",
        "time = pd.read_sql('SELECT TIME FROM spc3db', conn)\n",
        "print(time.index)\n",
        "encap_pkts = pd.read_sql('SELECT ENCAP_PKTS FROM spc3db', conn)\n",
        "ax2010 = encap_bytes.plot(y='ENCAP_BYTES', xticks=time.index)\n",
        "ax2011 = encap_pkts.plot(y='ENCAP_PKTS')"
      ],
      "execution_count": 114,
      "outputs": [
        {
          "output_type": "stream",
          "text": [
            "RangeIndex(start=0, stop=576, step=1)\n"
          ],
          "name": "stdout"
        },
        {
          "output_type": "display_data",
          "data": {
            "image/png": "[encoded data removed]",
            "text/plain": [
              "<Figure size 432x288 with 1 Axes>"
            ]
          },
          "metadata": {
            "tags": [],
            "needs_background": "light"
          }
        },
        {
          "output_type": "display_data",
          "data": {
            "image/png": "[encoded data removed]",
            "text/plain": [
              "<Figure size 432x288 with 1 Axes>"
            ]
          },
          "metadata": {
            "tags": [],
            "needs_background": "light"
          }
        }
      ]
    }
  ]
}